{
 "cells": [
  {
   "cell_type": "markdown",
   "metadata": {},
   "source": [
    "### Tweets Sentiment Analysis\n"
   ]
  },
  {
   "cell_type": "code",
   "execution_count": 11,
   "metadata": {},
   "outputs": [],
   "source": [
    "def read_file(file_path):\n",
    "    with open(file_path, 'r') as file:\n",
    "        return file.read().splitlines()\n",
    "    \n",
    "def sentiment_score(tweet, positive_words, negative_words):\n",
    "    score = 0\n",
    "    words = tweet.split()\n",
    "    for word in words:\n",
    "        if word.lower() in positive_words:\n",
    "            score += 1\n",
    "        elif word.lower() in negative_words:\n",
    "            score -= 1\n",
    "\n",
    "    return score"
   ]
  },
  {
   "cell_type": "code",
   "execution_count": 12,
   "metadata": {},
   "outputs": [
    {
     "name": "stdout",
     "output_type": "stream",
     "text": [
      "Score: 6, Tweet: The intelligent and talented young woman had a bright future ahead of her. She was passionate about her work and she was determined to make a difference in the world\n",
      "Score: 4, Tweet: The kind and generous old man was always willing to help others. He was a role model for the entire community and he was loved by everyone\n",
      "Score: 3, Tweet: The beautiful flowers were in full bloom and the sweet scent filled the air. The birds were singing merrily and the sun was shining brightly. It was a perfect day\n",
      "Score: 2, Tweet: Grateful for the amazing people in my life who make it so wonderful\n",
      "Score: 2, Tweet: Sending out good vibes to everyone today! Have a beautiful day!\n",
      "Score: 1, Tweet: Went out with some friends last night but didn't have as much fun as I thought. Felt a bit lonely and left early feeling uneasy.\n",
      "Score: -1, Tweet: All the noise from the construction outside is driving me nuts. It's making working from home dreadful.\n",
      "Score: -2, Tweet: I've been feeling so anxious and stressed lately with everything going on. Really need a break from it all.\n",
      "Score: -2, Tweet: Traffic was the worst it's ever been today. The long commute just made me feel grumpy and drained.\n",
      "Score: -5, Tweet: Had an awful morning - overslept and missed my first meeting. Feeling uneasy about how my boss will react.\n"
     ]
    }
   ],
   "source": [
    "def main():\n",
    "    tweets = read_file('tweets.txt')\n",
    "    positive_words = set(read_file('words_positive.txt'))\n",
    "    negative_words = set(read_file('words_negative.txt'))\n",
    "\n",
    "    tweet_scores = [(tweet, sentiment_score(tweet, positive_words, negative_words)) for tweet in tweets]\n",
    "\n",
    "    sorted_tweets = sorted(tweet_scores, key=lambda x: x[1], reverse=True)\n",
    "\n",
    "    for tweet, score in sorted_tweets:\n",
    "        print(f\"Score: {score}, Tweet: {tweet}\")\n",
    "\n",
    "if __name__ == \"__main__\":\n",
    "    main()"
   ]
  }
 ],
 "metadata": {
  "kernelspec": {
   "display_name": "Python 3",
   "language": "python",
   "name": "python3"
  },
  "language_info": {
   "codemirror_mode": {
    "name": "ipython",
    "version": 3
   },
   "file_extension": ".py",
   "mimetype": "text/x-python",
   "name": "python",
   "nbconvert_exporter": "python",
   "pygments_lexer": "ipython3",
   "version": "3.11.3"
  }
 },
 "nbformat": 4,
 "nbformat_minor": 2
}
